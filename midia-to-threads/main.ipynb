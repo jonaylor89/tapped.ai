{
 "cells": [
  {
   "attachments": {},
   "cell_type": "markdown",
   "metadata": {},
   "source": [
    "# Testing the Gemini API\n",
    "\n",
    "To get started, [get an API key](https://g.co/ai/idxGetGeminiKey) and replace the word `TODO` below with your API key:"
   ]
  },
  {
   "cell_type": "code",
   "execution_count": 54,
   "metadata": {},
   "outputs": [
    {
     "name": "stdout",
     "output_type": "stream",
     "text": [
      "Requirement already satisfied: bs4 in ./.venv/lib/python3.11/site-packages (0.0.2)\n",
      "Requirement already satisfied: beautifulsoup4 in ./.venv/lib/python3.11/site-packages (from bs4) (4.12.3)\n",
      "Requirement already satisfied: soupsieve>1.2 in ./.venv/lib/python3.11/site-packages (from beautifulsoup4->bs4) (2.5)\n",
      "Note: you may need to restart the kernel to use updated packages.\n",
      "Requirement already satisfied: requests in ./.venv/lib/python3.11/site-packages (2.32.3)\n",
      "Requirement already satisfied: charset-normalizer<4,>=2 in ./.venv/lib/python3.11/site-packages (from requests) (3.3.2)\n",
      "Requirement already satisfied: idna<4,>=2.5 in ./.venv/lib/python3.11/site-packages (from requests) (3.7)\n",
      "Requirement already satisfied: urllib3<3,>=1.21.1 in ./.venv/lib/python3.11/site-packages (from requests) (2.2.2)\n",
      "Requirement already satisfied: certifi>=2017.4.17 in ./.venv/lib/python3.11/site-packages (from requests) (2024.6.2)\n",
      "Note: you may need to restart the kernel to use updated packages.\n",
      "Requirement already satisfied: unstructured in ./.venv/lib/python3.11/site-packages (0.14.6)\n",
      "Requirement already satisfied: chardet in ./.venv/lib/python3.11/site-packages (from unstructured) (5.2.0)\n",
      "Requirement already satisfied: filetype in ./.venv/lib/python3.11/site-packages (from unstructured) (1.2.0)\n",
      "Requirement already satisfied: python-magic in ./.venv/lib/python3.11/site-packages (from unstructured) (0.4.27)\n",
      "Requirement already satisfied: lxml in ./.venv/lib/python3.11/site-packages (from unstructured) (5.2.2)\n",
      "Requirement already satisfied: nltk in ./.venv/lib/python3.11/site-packages (from unstructured) (3.8.1)\n",
      "Requirement already satisfied: tabulate in ./.venv/lib/python3.11/site-packages (from unstructured) (0.9.0)\n",
      "Requirement already satisfied: requests in ./.venv/lib/python3.11/site-packages (from unstructured) (2.32.3)\n",
      "Requirement already satisfied: beautifulsoup4 in ./.venv/lib/python3.11/site-packages (from unstructured) (4.12.3)\n",
      "Requirement already satisfied: emoji in ./.venv/lib/python3.11/site-packages (from unstructured) (2.12.1)\n",
      "Requirement already satisfied: dataclasses-json in ./.venv/lib/python3.11/site-packages (from unstructured) (0.6.7)\n",
      "Requirement already satisfied: python-iso639 in ./.venv/lib/python3.11/site-packages (from unstructured) (2024.4.27)\n",
      "Requirement already satisfied: langdetect in ./.venv/lib/python3.11/site-packages (from unstructured) (1.0.9)\n",
      "Requirement already satisfied: numpy in ./.venv/lib/python3.11/site-packages (from unstructured) (1.26.4)\n",
      "Requirement already satisfied: rapidfuzz in ./.venv/lib/python3.11/site-packages (from unstructured) (3.9.3)\n",
      "Requirement already satisfied: backoff in ./.venv/lib/python3.11/site-packages (from unstructured) (2.2.1)\n",
      "Requirement already satisfied: typing-extensions in ./.venv/lib/python3.11/site-packages (from unstructured) (4.12.2)\n",
      "Requirement already satisfied: unstructured-client in ./.venv/lib/python3.11/site-packages (from unstructured) (0.23.7)\n",
      "Requirement already satisfied: wrapt in ./.venv/lib/python3.11/site-packages (from unstructured) (1.16.0)\n",
      "Requirement already satisfied: tqdm in ./.venv/lib/python3.11/site-packages (from unstructured) (4.66.4)\n",
      "Requirement already satisfied: soupsieve>1.2 in ./.venv/lib/python3.11/site-packages (from beautifulsoup4->unstructured) (2.5)\n",
      "Requirement already satisfied: marshmallow<4.0.0,>=3.18.0 in ./.venv/lib/python3.11/site-packages (from dataclasses-json->unstructured) (3.21.3)\n",
      "Requirement already satisfied: typing-inspect<1,>=0.4.0 in ./.venv/lib/python3.11/site-packages (from dataclasses-json->unstructured) (0.9.0)\n",
      "Requirement already satisfied: six in ./.venv/lib/python3.11/site-packages (from langdetect->unstructured) (1.16.0)\n",
      "Requirement already satisfied: click in ./.venv/lib/python3.11/site-packages (from nltk->unstructured) (8.1.7)\n",
      "Requirement already satisfied: joblib in ./.venv/lib/python3.11/site-packages (from nltk->unstructured) (1.4.2)\n",
      "Requirement already satisfied: regex>=2021.8.3 in ./.venv/lib/python3.11/site-packages (from nltk->unstructured) (2024.5.15)\n",
      "Requirement already satisfied: charset-normalizer<4,>=2 in ./.venv/lib/python3.11/site-packages (from requests->unstructured) (3.3.2)\n",
      "Requirement already satisfied: idna<4,>=2.5 in ./.venv/lib/python3.11/site-packages (from requests->unstructured) (3.7)\n",
      "Requirement already satisfied: urllib3<3,>=1.21.1 in ./.venv/lib/python3.11/site-packages (from requests->unstructured) (2.2.2)\n",
      "Requirement already satisfied: certifi>=2017.4.17 in ./.venv/lib/python3.11/site-packages (from requests->unstructured) (2024.6.2)\n",
      "Requirement already satisfied: deepdiff>=6.0 in ./.venv/lib/python3.11/site-packages (from unstructured-client->unstructured) (7.0.1)\n",
      "Requirement already satisfied: httpx>=0.27.0 in ./.venv/lib/python3.11/site-packages (from unstructured-client->unstructured) (0.27.0)\n",
      "Requirement already satisfied: jsonpath-python>=1.0.6 in ./.venv/lib/python3.11/site-packages (from unstructured-client->unstructured) (1.0.6)\n",
      "Requirement already satisfied: mypy-extensions>=1.0.0 in ./.venv/lib/python3.11/site-packages (from unstructured-client->unstructured) (1.0.0)\n",
      "Requirement already satisfied: nest-asyncio>=1.6.0 in ./.venv/lib/python3.11/site-packages (from unstructured-client->unstructured) (1.6.0)\n",
      "Requirement already satisfied: packaging>=23.1 in ./.venv/lib/python3.11/site-packages (from unstructured-client->unstructured) (24.1)\n",
      "Requirement already satisfied: pypdf>=4.0 in ./.venv/lib/python3.11/site-packages (from unstructured-client->unstructured) (4.2.0)\n",
      "Requirement already satisfied: python-dateutil>=2.8.2 in ./.venv/lib/python3.11/site-packages (from unstructured-client->unstructured) (2.9.0.post0)\n",
      "Requirement already satisfied: requests-toolbelt>=1.0.0 in ./.venv/lib/python3.11/site-packages (from unstructured-client->unstructured) (1.0.0)\n",
      "Requirement already satisfied: ordered-set<4.2.0,>=4.1.0 in ./.venv/lib/python3.11/site-packages (from deepdiff>=6.0->unstructured-client->unstructured) (4.1.0)\n",
      "Requirement already satisfied: anyio in ./.venv/lib/python3.11/site-packages (from httpx>=0.27.0->unstructured-client->unstructured) (4.4.0)\n",
      "Requirement already satisfied: httpcore==1.* in ./.venv/lib/python3.11/site-packages (from httpx>=0.27.0->unstructured-client->unstructured) (1.0.5)\n",
      "Requirement already satisfied: sniffio in ./.venv/lib/python3.11/site-packages (from httpx>=0.27.0->unstructured-client->unstructured) (1.3.1)\n",
      "Requirement already satisfied: h11<0.15,>=0.13 in ./.venv/lib/python3.11/site-packages (from httpcore==1.*->httpx>=0.27.0->unstructured-client->unstructured) (0.14.0)\n",
      "Note: you may need to restart the kernel to use updated packages.\n",
      "Requirement already satisfied: langchain_community in ./.venv/lib/python3.11/site-packages (0.2.5)\n",
      "Requirement already satisfied: PyYAML>=5.3 in ./.venv/lib/python3.11/site-packages (from langchain_community) (6.0.1)\n",
      "Requirement already satisfied: SQLAlchemy<3,>=1.4 in ./.venv/lib/python3.11/site-packages (from langchain_community) (2.0.31)\n",
      "Requirement already satisfied: aiohttp<4.0.0,>=3.8.3 in ./.venv/lib/python3.11/site-packages (from langchain_community) (3.9.5)\n",
      "Requirement already satisfied: dataclasses-json<0.7,>=0.5.7 in ./.venv/lib/python3.11/site-packages (from langchain_community) (0.6.7)\n",
      "Requirement already satisfied: langchain<0.3.0,>=0.2.5 in ./.venv/lib/python3.11/site-packages (from langchain_community) (0.2.5)\n",
      "Requirement already satisfied: langchain-core<0.3.0,>=0.2.7 in ./.venv/lib/python3.11/site-packages (from langchain_community) (0.2.9)\n",
      "Requirement already satisfied: langsmith<0.2.0,>=0.1.0 in ./.venv/lib/python3.11/site-packages (from langchain_community) (0.1.80)\n",
      "Requirement already satisfied: numpy<2,>=1 in ./.venv/lib/python3.11/site-packages (from langchain_community) (1.26.4)\n",
      "Requirement already satisfied: requests<3,>=2 in ./.venv/lib/python3.11/site-packages (from langchain_community) (2.32.3)\n",
      "Requirement already satisfied: tenacity<9.0.0,>=8.1.0 in ./.venv/lib/python3.11/site-packages (from langchain_community) (8.4.1)\n",
      "Requirement already satisfied: aiosignal>=1.1.2 in ./.venv/lib/python3.11/site-packages (from aiohttp<4.0.0,>=3.8.3->langchain_community) (1.3.1)\n",
      "Requirement already satisfied: attrs>=17.3.0 in ./.venv/lib/python3.11/site-packages (from aiohttp<4.0.0,>=3.8.3->langchain_community) (23.2.0)\n",
      "Requirement already satisfied: frozenlist>=1.1.1 in ./.venv/lib/python3.11/site-packages (from aiohttp<4.0.0,>=3.8.3->langchain_community) (1.4.1)\n",
      "Requirement already satisfied: multidict<7.0,>=4.5 in ./.venv/lib/python3.11/site-packages (from aiohttp<4.0.0,>=3.8.3->langchain_community) (6.0.5)\n",
      "Requirement already satisfied: yarl<2.0,>=1.0 in ./.venv/lib/python3.11/site-packages (from aiohttp<4.0.0,>=3.8.3->langchain_community) (1.9.4)\n",
      "Requirement already satisfied: marshmallow<4.0.0,>=3.18.0 in ./.venv/lib/python3.11/site-packages (from dataclasses-json<0.7,>=0.5.7->langchain_community) (3.21.3)\n",
      "Requirement already satisfied: typing-inspect<1,>=0.4.0 in ./.venv/lib/python3.11/site-packages (from dataclasses-json<0.7,>=0.5.7->langchain_community) (0.9.0)\n",
      "Requirement already satisfied: langchain-text-splitters<0.3.0,>=0.2.0 in ./.venv/lib/python3.11/site-packages (from langchain<0.3.0,>=0.2.5->langchain_community) (0.2.1)\n",
      "Requirement already satisfied: pydantic<3,>=1 in ./.venv/lib/python3.11/site-packages (from langchain<0.3.0,>=0.2.5->langchain_community) (2.7.4)\n",
      "Requirement already satisfied: jsonpatch<2.0,>=1.33 in ./.venv/lib/python3.11/site-packages (from langchain-core<0.3.0,>=0.2.7->langchain_community) (1.33)\n",
      "Requirement already satisfied: packaging<25,>=23.2 in ./.venv/lib/python3.11/site-packages (from langchain-core<0.3.0,>=0.2.7->langchain_community) (24.1)\n",
      "Requirement already satisfied: orjson<4.0.0,>=3.9.14 in ./.venv/lib/python3.11/site-packages (from langsmith<0.2.0,>=0.1.0->langchain_community) (3.10.5)\n",
      "Requirement already satisfied: charset-normalizer<4,>=2 in ./.venv/lib/python3.11/site-packages (from requests<3,>=2->langchain_community) (3.3.2)\n",
      "Requirement already satisfied: idna<4,>=2.5 in ./.venv/lib/python3.11/site-packages (from requests<3,>=2->langchain_community) (3.7)\n",
      "Requirement already satisfied: urllib3<3,>=1.21.1 in ./.venv/lib/python3.11/site-packages (from requests<3,>=2->langchain_community) (2.2.2)\n",
      "Requirement already satisfied: certifi>=2017.4.17 in ./.venv/lib/python3.11/site-packages (from requests<3,>=2->langchain_community) (2024.6.2)\n",
      "Requirement already satisfied: typing-extensions>=4.6.0 in ./.venv/lib/python3.11/site-packages (from SQLAlchemy<3,>=1.4->langchain_community) (4.12.2)\n",
      "Requirement already satisfied: greenlet!=0.4.17 in ./.venv/lib/python3.11/site-packages (from SQLAlchemy<3,>=1.4->langchain_community) (3.0.3)\n",
      "Requirement already satisfied: jsonpointer>=1.9 in ./.venv/lib/python3.11/site-packages (from jsonpatch<2.0,>=1.33->langchain-core<0.3.0,>=0.2.7->langchain_community) (3.0.0)\n",
      "Requirement already satisfied: annotated-types>=0.4.0 in ./.venv/lib/python3.11/site-packages (from pydantic<3,>=1->langchain<0.3.0,>=0.2.5->langchain_community) (0.7.0)\n",
      "Requirement already satisfied: pydantic-core==2.18.4 in ./.venv/lib/python3.11/site-packages (from pydantic<3,>=1->langchain<0.3.0,>=0.2.5->langchain_community) (2.18.4)\n",
      "Requirement already satisfied: mypy-extensions>=0.3.0 in ./.venv/lib/python3.11/site-packages (from typing-inspect<1,>=0.4.0->dataclasses-json<0.7,>=0.5.7->langchain_community) (1.0.0)\n",
      "Note: you may need to restart the kernel to use updated packages.\n",
      "Collecting python-dotenv\n",
      "  Downloading python_dotenv-1.0.1-py3-none-any.whl.metadata (23 kB)\n",
      "Downloading python_dotenv-1.0.1-py3-none-any.whl (19 kB)\n",
      "Installing collected packages: python-dotenv\n",
      "Successfully installed python-dotenv-1.0.1\n",
      "Note: you may need to restart the kernel to use updated packages.\n"
     ]
    }
   ],
   "source": [
    "%pip install bs4\n",
    "%pip install requests\n",
    "%pip install unstructured\n",
    "%pip install langchain_community\n",
    "%pip install python-dotenv\n",
    "\n",
    "%load_ext dotenv\n",
    "%dotenv"
   ]
  },
  {
   "cell_type": "code",
   "execution_count": 4,
   "metadata": {},
   "outputs": [],
   "source": [
    "import os\n",
    "if os.environ[\"GOOGLE_API_KEY\"] == 'TODO':\n",
    "    print({ \"error\": '''\n",
    "        To get started, get an GOOGLE_API_KEY and enter it in the first step\n",
    "    '''.replace('\\n', '') })"
   ]
  },
  {
   "attachments": {},
   "cell_type": "markdown",
   "metadata": {},
   "source": [
    "Once you're done, create a text prompt here:"
   ]
  },
  {
   "cell_type": "markdown",
   "metadata": {},
   "source": [
    "And load the HTML from the MIDiA URL"
   ]
  },
  {
   "cell_type": "code",
   "execution_count": 49,
   "metadata": {},
   "outputs": [
    {
     "name": "stdout",
     "output_type": "stream",
     "text": [
      "[Document(page_content='Blog\\n\\nMusic\\n\\nMainstream is the new niche\\n\\nby Mark Mulligan\\n\\nShare this article\\n\\nTags\\n\\nmainstream\\n\\nniche\\n\\nsuperstars\\n\\ntaylor swift\\n\\nCharli XCX\\n\\nMichael Jackson\\n\\nthe eagles\\n\\neras\\n\\nMusic\\n\\nCompanies\\n\\nSpotify\\n\\nRoles\\n\\nThis blog post is relevant to the following roles\\n\\nCultural Trends\\n\\nFandom\\n\\nFive years ago, we made the call that\\xa0‘niche is the new mainstream’. Today, this dynamic is so fundamental to music and culture that we are firmly in the stage of second order consequences. Superstars are getting smaller, the long tail is getting longer, and rightsholders are bringing in earnings thresholds to keep that growing long tail at bay. But it was a blog post by my colleague Tatiana – “Did Charli XCX go mainstream, or did the mainstream just go niche?”\\xa0–\\xa0that got me thinking whether, now five years in, the mainstreaming of niche has reached a tipping point.\\n\\nThe dynamics of Charli XCX’s career (e.g., 25,000 RSVPs in one hour for a 1,000-cap Boiler Room gig) feel very much like those of Taylor Swift. Of course, the sheer scale of the Swift fandom machine is the big difference – or is it? Is mainstream about actual numbers or reach, or perhaps both? In fact, it is best measured in three key ways:\\n\\n1.\\xa0\\xa0\\xa0\\xa0\\xa0\\xa0\\xa0\\xa0Absolute scale:\\xa0how big are the numbers?\\n\\n2.\\xa0\\xa0\\xa0\\xa0\\xa0\\xa0\\xa0\\xa0Relative scale:\\xa0how big are the numbers compared to others?\\n\\n3.\\xa0\\xa0\\xa0\\xa0\\xa0\\xa0\\xa0\\xa0Active reach:\\xa0what share of the total audience does an artist have?\\n\\nLet’s use Taylor Swift, as today’s biggest mainstream music artist, to test each.\\n\\nAbsolute scale\\n\\nThere is no getting away from the fact that everything “big” has got smaller. Michael Jackson, arguably the equivalent of Taylor Swift for the peak-CD era, shifted half a billion units worldwide, when units actually meant units. By comparison,\\xa0Taylor Swift has fewer than 200 million ‘album equivalent sales’\\xa0– which of course means this figure is increasingly made up of streams being converted into ‘sales’. Given that so much of streaming behaviour today is radio-like, we would really need to add an estimate of total individual radio listens to Jackson, which would result in a figure that would comfortably end up in the tens of billions in ‘equivalent sales’.Yes, Jackson’s career happened in a different era, when fewer artists were competing and linear broadcast platforms dominated. But that is the entire point of fragmenting fandom.\\n\\nFeatured Report\\n\\nState of the music creator economy\\n            The consumer era\\n\\nThe pandemic triggered a surge in the music creator economy, which brought with it an influx of external interest and investment. 2022 saw growth moderate, but the long-term outlook is not only strong,...\\n\\nFind out more…\\n\\nRelative scale\\n\\nIt is abundantly clear that Taylor Swift has more streams and ticket sales than pretty much everyone else. She is the biggest artist on the planet right now. She has mainstream awareness, but does that make her actual listenership mainstream?\\n\\nShe certainly has more mainstream cultural clout than her peers, managing to become part of the mainstream media narrative – look no further than the\\xa0Financial Times\\xa0running pieces on ‘Swiftonomics’. This is thanks, in large part, to the fact she first built her fandom pre-fragmentation, when music was still much more a part of mainstream culture. It is an\\xa0advantage enjoyed by other artists, such as Beyoncé, that came up pre-streaming’s peak, and therefore pre-fragmentation. But an\\xa0FT\\xa0subscriber reading a Swiftonomics story does not necessarily make them a listener (I’ll hazard a guess that particular conversion rate is not one to sing about). Having mainstream media reach is not the same as being a mainstream artist in terms of listenership, even though the two things did largely go hand-in-hand once upon a time.So, simply being bigger than the rest does not inherently equate to being mainstream. In the same way that the fastest kid at school could leave her classmates for dust but not even qualify for national heats, let alone compete with the fastest runners in the world.\\n\\nReach\\n\\nActive reach is where the picture really comes into focus.\\xa0The best-selling albums in US history\\xa0(when sales were sales) were the Eagles ‘Their Greatest Hits 1971-1975’, with 38 million sales, and Michael Jackson’s ‘Thriller’, with 34 million.\\xa0Based on the respective populations of the year of release of those albums, the Eagles was bought by 17.4% of the US population, while Michael Jackson was bought by 15.9%.\\n\\nTaylor Swift’s best-selling US album was ‘1989’ (6.5 million)\\xa0while ‘The Tortured Poets Department’ sold 2.9 million. As a share of the total US population, they represent 2.0% and 0.7%.\\n\\nTaylor Swift’s biggest selling release has 12 times less reach than the Eagles, while her latest release had less than 1% reach.NOTE: with modern ‘sales’ figures including streams, Swift’s total audience may have been bigger (as many different people’s streams could add up to one sale). But equally, it could be lower, as one person’s streams could add up to multiple units.\\n\\nOf course, judging Swift’s reach only by album sales – an aging format, and an essentially extinct one for much of her listener base – is unfair. Yet interestingly, the c1% figure doesn’t just apply to Swift’s album sales. The record-breaking ‘Eras’ tour sold 4.5 million US tickets, which is just over 1% of the US population (and Swifties being Swifties, there was probably a decent number who saw the show more than once, meaning that percentage is likely a bit smaller). Meanwhile, Swift’s 26.1 billion Spotify streams in 2023 made her the most streamed artist of the year, yet that was just 1.4% of all global Spotify streams. Now, 1.4% of global streams for one artist is a massive achievement But in the analogue era so many more people would have listened to the biggest artist of the day because radio was the main consumption format, and on radio everyone listens to the same song, whether they like it or not.\\n\\nNone of this is a critique of Taylor Swift, but instead a reflection of the modern music world which she is part of. She is clearly a hugely successful artist at the top of her game. But the game is not the same as it once was. It is not that Taylor Swift is not huge — she is. But she is not mainstream, because mainstream itself is now niche. Charli XCX shows how successful you can be when you understand the power of niche. Niche does not inherently mean small,\\xa0and its potential is huge.\\xa0The simple, hard truth is that now everything is niche, even mainstream.\\n\\nThe discussion around this post has not yet got started, be the first to add an opinion.\\n\\nTrending\\n\\nMainstream is the new niche\\n\\n\\n                        by\\n                                                                    \\n\\nMark Mulligan\\n\\nCommodification’s kickbacks: trends emerging in the pendulum swing back from content overload and AI\\n\\n\\n                        by\\n                                                                    \\n\\nHanna Kahlert\\n\\nThe ad monetisation trap and what it means for video\\n\\n\\n                        by\\n                                                                    \\n\\nTim Mulligan\\n\\nWhy creative friction can tackle the ‘Slot Machine Effect’ in AI generated video\\n\\n\\n                        by\\n                                                                    \\n\\nBen Woods\\n\\nThe verdict is in: Music is podcasting’s biggest missed opportunity\\n\\n\\n                        by\\n                                                                    \\n\\nRutger Rosenborg\\n\\nMore from MIDiA\\n\\nThe verdict is in: Music is podcasting’s biggest missed opportunity\\n\\n\\n                        by\\n                                                                    \\n\\nRutger Rosenborg\\n\\nWhile there are plenty of charts that provide insight into the most downloaded podcasts on each platform globally, these data give a very granular perspective on consumer preferences. Podcast platforms,...\\n\\nWhy creative friction can tackle the ‘Slot Machine Effect’ in AI generated video\\n\\n\\n                        by\\n                                                                    \\n\\nBen Woods\\n\\nAI-generated content is a polarising topic. Some view AI video generation as a vital tool for bringing creativity and communication to the masses. Others believe it to be a solution in search of a problem....\\n\\nCommodification’s kickbacks: trends emerging in the pendulum swing back from content overload and AI\\n\\n\\n                        by\\n                                                                    \\n\\nHanna Kahlert\\n\\nIt’s easy to get overwhelmed by the state of entertainment (and culture more broadly). AI generated content is taking up ever-larger swathes of the internet. Passive consumption drives high numbers that...\\n\\nAdd your comment', metadata={'source': 'https://www.midiaresearch.com/blog/mainstream-is-the-new-niche'})]\n"
     ]
    }
   ],
   "source": [
    "from langchain_community.document_loaders import UnstructuredURLLoader\n",
    "import requests\n",
    "\n",
    "urls = [\n",
    "    # \"https://www.midiaresearch.com/blog/why-the-creator-tools-and-services-market-is-bigger-than-you-think-and-it-is-not-ai\",\n",
    "    \"https://www.midiaresearch.com/blog/mainstream-is-the-new-niche\",\n",
    "    # \"https://www.midiaresearch.com/blog/did-charli-xcx-go-mainstream-or-did-the-mainstream-just-go-niche\",\n",
    "    # \"https://www.midiaresearch.com/blog/billie-eilish-delivered-a-superfan-masterclass\",\n",
    "]\n",
    "\n",
    "loader = UnstructuredURLLoader(urls=urls)\n",
    "data = loader.load()\n",
    "print(data)"
   ]
  },
  {
   "attachments": {},
   "cell_type": "markdown",
   "metadata": {},
   "source": [
    "And finally, call the Gemini API using LangChain. [See the docs](https://github.com/langchain-ai/langchain/blob/master/libs/partners/google-genai/langchain_google_genai/__init__.py)"
   ]
  },
  {
   "cell_type": "code",
   "execution_count": 51,
   "metadata": {},
   "outputs": [],
   "source": [
    "prompt = '''read this article and convert it into a twitter thread. \n",
    "make the thread very captivating and attention grabbing for a audience that \n",
    "would get their information from twitter. \n",
    "make all the threads cohesive like it's actually one long blog post msg\n",
    "\n",
    "DO NOT use emojis unless absolutely necessary\n",
    "\n",
    "mark your output to clear define what goes in each post\n",
    "'''"
   ]
  },
  {
   "cell_type": "code",
   "execution_count": 52,
   "metadata": {},
   "outputs": [
    {
     "data": {
      "text/markdown": [
       "## Twitter Thread: Mainstream is the New Niche 🎧\n",
       "\n",
       "**Thread 1/10**\n",
       "\n",
       "Remember when we said \"niche is the new mainstream\"? It's happening. Superstars are getting smaller, the long tail is getting longer, and the music industry is adapting. \n",
       "\n",
       "**Thread 2/10**\n",
       "\n",
       "But is the mainstream *actually* niche? Let's analyze Taylor Swift, the biggest mainstream artist today, using three key measures:\n",
       "\n",
       "* **Absolute Scale:** How big are the numbers?\n",
       "* **Relative Scale:** How big are the numbers compared to others?\n",
       "* **Active Reach:** What share of the total audience does an artist have?\n",
       "\n",
       "**Thread 3/10**\n",
       "\n",
       "**Absolute Scale:**  Even the biggest artists today are smaller than their predecessors. Michael Jackson sold half a billion units, while Taylor Swift has fewer than 200 million album-equivalent sales (which includes streaming). \n",
       "\n",
       "**Thread 4/10**\n",
       "\n",
       "**Relative Scale:** Taylor Swift is undoubtedly the biggest artist on the planet right now. She has mainstream awareness, but does that make her *listenership* mainstream?\n",
       "\n",
       "**Thread 5/10**\n",
       "\n",
       "**Active Reach:** This is where things get interesting. The Eagles' \"Greatest Hits\" album was bought by 17.4% of the US population. Taylor Swift's \"1989\" album, her best-selling, reached only 2%.\n",
       "\n",
       "**Thread 6/10**\n",
       "\n",
       "Taylor Swift's \"Eras\" tour sold 4.5 million tickets, just over 1% of the US population. Her 26.1 billion Spotify streams in 2023 were a massive achievement, but only 1.4% of all global Spotify streams.\n",
       "\n",
       "**Thread 7/10**\n",
       "\n",
       "These numbers are a reflection of the modern music world. Taylor Swift is a huge success, but she's not mainstream because the mainstream itself is now niche.\n",
       "\n",
       "**Thread 8/10**\n",
       "\n",
       "Charli XCX is a perfect example of this. She's built a massive following through niche communities and platforms. Niche doesn't mean small; it's about connecting with specific audiences.\n",
       "\n",
       "**Thread 9/10**\n",
       "\n",
       "The music industry is evolving.  Superstars are still important, but reaching niche audiences is crucial for success.\n",
       "\n",
       "**Thread 10/10**\n",
       "\n",
       "The future of music is about finding your niche and building a dedicated fanbase.  Mainstream is the new niche.  What are your thoughts? \n"
      ],
      "text/plain": [
       "<IPython.core.display.Markdown object>"
      ]
     },
     "metadata": {},
     "output_type": "display_data"
    }
   ],
   "source": [
    "from langchain_core.messages import HumanMessage\n",
    "from langchain_google_genai import ChatGoogleGenerativeAI\n",
    "from IPython.display import Markdown, clear_output, display\n",
    "import base64\n",
    "import io\n",
    "\n",
    "for res in data:\n",
    "    model = ChatGoogleGenerativeAI(model=\"gemini-1.5-flash\")\n",
    "    message = HumanMessage(content=[\n",
    "        { 'type': 'text', 'text': prompt },\n",
    "        { 'type': 'text', 'text': res.page_content }\n",
    "    ])\n",
    "    response = model.stream([message])\n",
    "\n",
    "    buffer = []\n",
    "    for chunk in response:\n",
    "        buffer.append(chunk.content)\n",
    "        clear_output()\n",
    "        display(Markdown(''.join(buffer)))\n"
   ]
  }
 ],
 "metadata": {
  "kernelspec": {
   "display_name": "out",
   "language": "python",
   "name": "python3"
  },
  "language_info": {
   "codemirror_mode": {
    "name": "ipython",
    "version": 3
   },
   "file_extension": ".py",
   "mimetype": "text/x-python",
   "name": "python",
   "nbconvert_exporter": "python",
   "pygments_lexer": "ipython3",
   "version": "3.11.8"
  },
  "orig_nbformat": 4
 },
 "nbformat": 4,
 "nbformat_minor": 2
}
